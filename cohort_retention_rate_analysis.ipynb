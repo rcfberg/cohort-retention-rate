{
  "nbformat": 4,
  "nbformat_minor": 0,
  "metadata": {
    "colab": {
      "name": "cohort-retention-rate-analysis.ipynb",
      "provenance": []
    },
    "kernelspec": {
      "name": "python3",
      "display_name": "Python 3"
    },
    "language_info": {
      "name": "python"
    }
  },
  "cells": [
    {
      "cell_type": "markdown",
      "source": [
        "This project demonstrates a cohort retention rate analysis, an analysis which is common among online businesses. The data is acquired from a [Kaggle competition](https://www.kaggle.com/archit9406/customer-transaction-dataset).\n",
        "\n",
        "The main steps of the following analysis:\n",
        "1. Loading data\n",
        "2. Assign cohorts & calculate monthly offsets\n",
        "3. Calculate retention rate\n",
        "4. Visualize data\n",
        "5. Analyze"
      ],
      "metadata": {
        "id": "aTu5glVEtxpT"
      }
    },
    {
      "cell_type": "code",
      "execution_count": null,
      "metadata": {
        "id": "zjmWubw0ttfa"
      },
      "outputs": [],
      "source": [
        "import pandas as pd\n",
        "import seaborn as sns\n",
        "\n",
        "import matplotlib.pyplot as plt\n",
        "import numpy as np\n",
        "import datetime as dt\n",
        "\n",
        "import missingno as msno\n",
        "from textwrap import wrap"
      ]
    },
    {
      "cell_type": "code",
      "source": [
        "# Loading dataset\n",
        "\n",
        "transaction_df = pd.read_excel('transaction.xlsx')"
      ],
      "metadata": {
        "id": "xOP0reiAu9F7"
      },
      "execution_count": null,
      "outputs": []
    },
    {
      "cell_type": "code",
      "source": [
        "# View data\n",
        "transaction_df.head()"
      ],
      "metadata": {
        "id": "J2RJ1HWgu_pO"
      },
      "execution_count": null,
      "outputs": []
    },
    {
      "cell_type": "code",
      "source": [
        "msno.bar(transaction_df)"
      ],
      "metadata": {
        "id": "f_lllBx-vBlu"
      },
      "execution_count": null,
      "outputs": []
    },
    {
      "cell_type": "code",
      "source": [
        "# Inspect missing values in the dataset\n",
        "print(transaction_df.isnull().values.sum())\n",
        "\n",
        "# Replace the ' 's with NaN\n",
        "transaction_df = transaction_df.replace(\" \",np.NaN)\n",
        "\n",
        "# Impute the missing values with mean imputation\n",
        "transaction_df = transaction_df.fillna(transaction_df.mean())\n",
        "\n",
        "# Count the number of NaNs in the dataset to verify\n",
        "print(transaction_df.isnull().values.sum())"
      ],
      "metadata": {
        "id": "rPZP8zV-vEJ4"
      },
      "execution_count": null,
      "outputs": []
    },
    {
      "cell_type": "code",
      "source": [
        "print(transaction_df.info())\n",
        "for col in transaction_df.columns:\n",
        "    # Check if the column is of object type\n",
        "    if transaction_df[col].dtypes == 'object':\n",
        "        # Impute with the most frequent value\n",
        "        transaction_df[col] = transaction_df[col].fillna(transaction_df[col].value_counts().index[0])\n",
        "\n",
        "# Count the number of NaNs in the dataset and print the counts to verify\n",
        "print(transaction_df.isnull().values.sum())"
      ],
      "metadata": {
        "id": "Ez0C6SibvGuD"
      },
      "execution_count": null,
      "outputs": []
    },
    {
      "cell_type": "code",
      "source": [
        "msno.bar(transaction_df)"
      ],
      "metadata": {
        "id": "ddIfGOqmvIrN"
      },
      "execution_count": null,
      "outputs": []
    },
    {
      "cell_type": "code",
      "source": [
        "transaction_df.info()"
      ],
      "metadata": {
        "id": "HuzlruZQvKnH"
      },
      "execution_count": null,
      "outputs": []
    },
    {
      "cell_type": "markdown",
      "source": [
        "Assign cohorts & calculate monthly offsets"
      ],
      "metadata": {
        "id": "IcbXmOu-6tLG"
      }
    },
    {
      "cell_type": "code",
      "source": [
        "# A function that will parse the date Time based cohort:  1 day of month\n",
        "def get_month(x): return dt.datetime(x.year, x.month, 1) \n",
        "\n",
        "# Create transaction_date column based on month and store in TransactionMonth\n",
        "transaction_df['TransactionMonth'] = transaction_df['transaction_date'].apply(get_month) \n",
        "\n",
        "# Grouping by customer_id and select the InvoiceMonth value\n",
        "grouping = transaction_df.groupby('customer_id')['TransactionMonth'] \n",
        "\n",
        "# Assigning a minimum InvoiceMonth value to the dataset\n",
        "transaction_df['CohortMonth'] = grouping.transform('min')\n",
        "\n",
        "# printing top 5 rows\n",
        "print(transaction_df.head())"
      ],
      "metadata": {
        "id": "G4ovhN6AvMdy"
      },
      "execution_count": null,
      "outputs": []
    },
    {
      "cell_type": "code",
      "source": [
        "def get_date_int(df, column):\n",
        "    year = df[column].dt.year\n",
        "    month = df[column].dt.month\n",
        "    day = df[column].dt.day\n",
        "    return year, month, day\n",
        "\n",
        "# Getting the integers for date parts from the `InvoiceDay` column\n",
        "transcation_year, transaction_month, _ = get_date_int(transaction_df, 'TransactionMonth')\n",
        "\n",
        "# Getting the integers for date parts from the `CohortDay` column\n",
        "cohort_year, cohort_month, _ = get_date_int(transaction_df, 'CohortMonth')"
      ],
      "metadata": {
        "id": "vvl4LXwZvPTY"
      },
      "execution_count": null,
      "outputs": []
    },
    {
      "cell_type": "code",
      "source": [
        "#  Get the  difference in years\n",
        "years_diff = transcation_year - cohort_year\n",
        "\n",
        "# Calculate difference in months\n",
        "months_diff = transaction_month - cohort_month\n",
        "\n",
        "\n",
        "\"\"\" Extract the difference in months from all previous values\n",
        " \"+1\" in addeded at the end so that first month is marked as 1 instead of 0 for easier interpretation. \n",
        " \"\"\"\n",
        "\n",
        "transaction_df['CohortIndex'] = years_diff * 12 + months_diff  + 1 \n",
        "print(transaction_df.head(5))"
      ],
      "metadata": {
        "id": "HpIDmC2bvScU"
      },
      "execution_count": null,
      "outputs": []
    },
    {
      "cell_type": "code",
      "source": [
        "# Counting daily active user from each chort\n",
        "grouping = transaction_df.groupby(['CohortMonth', 'CohortIndex'])\n",
        "\n",
        "\n",
        "\n",
        "# Counting number of unique customer Id's falling in each group of CohortMonth and CohortIndex\n",
        "cohort_data = grouping['customer_id'].apply(pd.Series.nunique)\n",
        "cohort_data = cohort_data.reset_index()\n",
        "\n",
        "\n",
        " # Assigning column names to the dataframe created above\n",
        "cohort_counts = cohort_data.pivot(index='CohortMonth',\n",
        "                                 columns ='CohortIndex',\n",
        "                                 values = 'customer_id')\n",
        "\n",
        "# Printing top 5 rows of Dataframe\n",
        "cohort_data.head()"
      ],
      "metadata": {
        "id": "uYY90ySSvY98"
      },
      "execution_count": null,
      "outputs": []
    },
    {
      "cell_type": "code",
      "source": [
        "print(cohort_counts.round(1))"
      ],
      "metadata": {
        "id": "cY21-K6YvZql"
      },
      "execution_count": null,
      "outputs": []
    },
    {
      "cell_type": "markdown",
      "source": [
        "Calculate retention rate"
      ],
      "metadata": {
        "id": "hOE-QDen623_"
      }
    },
    {
      "cell_type": "code",
      "source": [
        "\"\"\"\n",
        "Select the first column and store it to cohort_sizes as size of cohort === no. active customer in first day\n",
        "We will store the 1st column as Cohort size i.e total Number of Customers in that Cohort\n",
        "\"\"\"\n",
        "\n",
        "cohort_sizes = cohort_counts.iloc[:,0]\n",
        "\n",
        "\"\"\"\n",
        "We will divide the values in other columns with Cohort Size in order to calculate the retention rate i.e Number of Customers in Each Cohort Index\n",
        "\"\"\"\n",
        "\n",
        "retention = cohort_counts.divide(cohort_sizes, axis=0)"
      ],
      "metadata": {
        "id": "TD_1E4IWvd23"
      },
      "execution_count": null,
      "outputs": []
    },
    {
      "cell_type": "code",
      "source": [
        "\"\"\"\n",
        "this matrix has 2 axes: \n",
        "x - cohort date (beginning of month); y - cohort maturity (in months)\n",
        "every cell is a unique count of customer for the x and y\n",
        "\n",
        "if a customer's last order was in period 2,\n",
        "they were active in period 0, 1 as well\n",
        "same for other periods\n",
        "\n",
        "\"\"\"\n",
        "\n",
        "# Coverting the retention rate into percentage and Rounding off.\n",
        "retention.round(3)*100"
      ],
      "metadata": {
        "id": "6Z6EyOo9vgXF"
      },
      "execution_count": null,
      "outputs": []
    },
    {
      "cell_type": "markdown",
      "source": [
        "Visualizing the retention rate"
      ],
      "metadata": {
        "id": "QhK5-ggfwiFr"
      }
    },
    {
      "cell_type": "code",
      "source": [
        "retention.index = retention.index.strftime('%Y-%m')\n",
        "retention.index"
      ],
      "metadata": {
        "id": "tz94QEazviqq"
      },
      "execution_count": null,
      "outputs": []
    },
    {
      "cell_type": "code",
      "source": [
        "# Initialize the figure\n",
        "plt.figure(figsize=(16, 10))\n",
        "\n",
        "# Adding a title\n",
        "plt.title('Retention Rate in percentage:- Monthly Cohorts', fontsize = 14)\n",
        "\n",
        "# Creating the seaborn based heatmap\n",
        "sns.heatmap(retention, annot=True, fmt= '.0%',cmap='YlGnBu', vmin = 0.0 , vmax = 0.6)\n",
        "plt.ylabel('Cohort Month')\n",
        "plt.xlabel('Cohort Index')\n",
        "plt.yticks( rotation='360')\n",
        "plt.show()"
      ],
      "metadata": {
        "id": "iFB3cEiTviw3"
      },
      "execution_count": null,
      "outputs": []
    },
    {
      "cell_type": "markdown",
      "source": [
        "Analysis of retention rate"
      ],
      "metadata": {
        "id": "6YPAVO8Y5w0h"
      }
    },
    {
      "cell_type": "code",
      "source": [
        "# Create a groupby object and pass the monthly cohort and cohort index as a list\n",
        "grouping = transaction_df.groupby(['CohortMonth', 'CohortIndex']) \n",
        "\n",
        "# Calculate the standard  average cost of the standard_cost column\n",
        "cohort_data = grouping['standard_cost'].mean()\n",
        "\n",
        "# Reset the index of cohort_data before pivot\n",
        "cohort_data = cohort_data.reset_index()\n",
        "\n",
        "# Create a pivot \n",
        "average_order = cohort_data.pivot(index='CohortMonth',\n",
        "                                  columns='CohortIndex',\n",
        "                                  values='standard_cost')\n",
        "\n",
        "average_standard_cost = average_order.round(1)"
      ],
      "metadata": {
        "id": "fSRSjpUM50Vg"
      },
      "execution_count": null,
      "outputs": []
    },
    {
      "cell_type": "code",
      "source": [
        "average_standard_cost.head()"
      ],
      "metadata": {
        "id": "YH42BHOC5396"
      },
      "execution_count": null,
      "outputs": []
    },
    {
      "cell_type": "code",
      "source": [
        "average_standard_cost.index = average_standard_cost.index.strftime('%Y-%m')\n",
        "average_standard_cost.index"
      ],
      "metadata": {
        "id": "IYI1b9oC57L6"
      },
      "execution_count": null,
      "outputs": []
    },
    {
      "cell_type": "code",
      "source": [
        "# Initialize the figure\n",
        "plt.figure(figsize=(16, 10))\n",
        "\n",
        "# Adding a title\n",
        "plt.title('Average Standard Cost: Monthly Cohorts', fontsize = 14)\n",
        "\n",
        "# Creating the heatmap\n",
        "sns.heatmap(average_standard_cost, annot = True,vmin = 0.0, vmax =20,cmap=\"YlGnBu\", fmt='g')\n",
        "plt.ylabel('Cohort Month')\n",
        "plt.xlabel('Cohort Index')\n",
        "plt.yticks( rotation='360')\n",
        "plt.show()"
      ],
      "metadata": {
        "id": "fuSEw1Yk59zF"
      },
      "execution_count": null,
      "outputs": []
    },
    {
      "cell_type": "markdown",
      "source": [
        "Average list price monthly cohort"
      ],
      "metadata": {
        "id": "BXDm64Gv6JnN"
      }
    },
    {
      "cell_type": "code",
      "source": [
        "# Create a groupby object and pass the monthly cohort and cohort index as a list\n",
        "grouping = transaction_df.groupby(['CohortMonth', 'CohortIndex']) \n",
        "\n",
        "# Calculate the average of the list price column\n",
        "cohort_data = grouping['list_price'].mean()\n",
        "\n",
        "# Reset the index of cohort_data before pivot\n",
        "cohort_data = cohort_data.reset_index()\n",
        "\n",
        "# Create a pivot \n",
        "average_list = cohort_data.pivot(index='CohortMonth',\n",
        "                                  columns='CohortIndex',\n",
        "                                  values='list_price')\n",
        "\n",
        "average_list_cost = average_list.round(1)\n",
        "\n",
        "average_list_cost.head()"
      ],
      "metadata": {
        "id": "JNQrocbW6AvA"
      },
      "execution_count": null,
      "outputs": []
    },
    {
      "cell_type": "code",
      "source": [
        "average_list_cost.index = average_list_cost.index.strftime('%Y-%m')\n",
        "average_list_cost.index"
      ],
      "metadata": {
        "id": "X-8vXO5n6E7y"
      },
      "execution_count": null,
      "outputs": []
    },
    {
      "cell_type": "code",
      "source": [
        "# Initialize the figure\n",
        "plt.figure(figsize=(16, 10))\n",
        "\n",
        "# Adding a title\n",
        "plt.title('Average List Price: Monthly Cohorts', fontsize = 14)\n",
        "\n",
        "# Creating the heatmap\n",
        "sns.heatmap(average_list_cost, annot = True,vmin = 0.0, vmax =20,cmap=\"nipy_spectral\", fmt='g')\n",
        "plt.ylabel('Cohort Month')\n",
        "plt.xlabel('Cohort Index')\n",
        "plt.yticks( rotation='360')\n",
        "plt.show()"
      ],
      "metadata": {
        "id": "vNoY9j0x6hiS"
      },
      "execution_count": null,
      "outputs": []
    },
    {
      "cell_type": "code",
      "source": [
        ""
      ],
      "metadata": {
        "id": "zUibxomw6kf_"
      },
      "execution_count": null,
      "outputs": []
    }
  ]
}